{
 "cells": [
  {
   "cell_type": "code",
   "execution_count": 6,
   "id": "blessed-knowing",
   "metadata": {},
   "outputs": [],
   "source": [
    "import pandas as pd\n",
    "import matplotlib.pyplot as plt"
   ]
  },
  {
   "cell_type": "code",
   "execution_count": 36,
   "id": "dried-certification",
   "metadata": {},
   "outputs": [],
   "source": [
    "headings = ['Building Identifier',\n",
    "            'Country',\n",
    "             'City',\n",
    "             'Quality / Stage of Data',\n",
    "             'Construction Date',\n",
    "             'Building Type',\n",
    "             'Contributor']"
   ]
  },
  {
   "cell_type": "code",
   "execution_count": 2,
   "id": "forced-shark",
   "metadata": {},
   "outputs": [],
   "source": [
    "df = pd.read_excel('Dataset/dataset.xlsx',header=1,usecols='B:BKX')"
   ]
  },
  {
   "cell_type": "code",
   "execution_count": 17,
   "id": "lesbian-infrastructure",
   "metadata": {},
   "outputs": [
    {
     "data": {
      "image/png": "[encoded data removed]",
      "text/plain": [
       "<Figure size 432x288 with 1 Axes>"
      ]
     },
     "metadata": {
      "needs_background": "light"
     },
     "output_type": "display_data"
    }
   ],
   "source": [
    "plt.hist(df[[c for c in df.columns if 'kg' in c]].sum(axis=1),bins=50);\n",
    "plt.title('Histogram of total building material mass')\n",
    "plt.xlabel('Kilogrammes')\n",
    "plt.ylabel('Count');"
   ]
  },
  {
   "cell_type": "code",
   "execution_count": 18,
   "id": "irish-shelf",
   "metadata": {},
   "outputs": [
    {
     "data": {
      "image/png": "[encoded data removed]",
      "text/plain": [
       "<Figure size 432x288 with 1 Axes>"
      ]
     },
     "metadata": {
      "needs_background": "light"
     },
     "output_type": "display_data"
    }
   ],
   "source": [
    "plt.hist(df[[c for c in df.columns if 'm3' in c]].sum(axis=1),bins=50);\n",
    "plt.title('Histogram of total building material volume')\n",
    "plt.xlabel('Cubic Metres')\n",
    "plt.ylabel('Count');"
   ]
  },
  {
   "cell_type": "code",
   "execution_count": 32,
   "id": "another-flower",
   "metadata": {},
   "outputs": [
    {
     "name": "stdout",
     "output_type": "stream",
     "text": [
      "APB: 2 buildings\n",
      "Average year: 2014\n",
      "\n",
      "EDU: 2 buildings\n",
      "Average year: 2016\n",
      "\n",
      "INS: 1 buildings\n",
      "Average year: 1988\n",
      "\n",
      "MIX: 1 buildings\n",
      "Average year: 2018\n",
      "\n",
      "OFF: 3 buildings\n",
      "Average year: 2009\n",
      "\n",
      "ROW: 1 buildings\n",
      "Average year: 2018\n",
      "\n",
      "SMD: 4 buildings\n",
      "Average year: 1994\n",
      "\n",
      "SND: 40 buildings\n",
      "Average year: 2015\n",
      "\n"
     ]
    }
   ],
   "source": [
    "for k,v in df.groupby('Building Type'):\n",
    "    print(f'{k}: {len(v)} buildings')\n",
    "    print(f'Average year: {int(v[\"Construction Date\"].mean())}')\n",
    "    print()"
   ]
  },
  {
   "cell_type": "code",
   "execution_count": 48,
   "id": "owned-knock",
   "metadata": {},
   "outputs": [
    {
     "name": "stdout",
     "output_type": "stream",
     "text": [
      "1913: 1 buildings\n",
      "Most used materials:\n",
      "['B01_A1010.10.0FW_03 31 16.00_kg_1', 'B01_A4090.60.000_32 11 23.00_kg_1', 'B01_A4010.10.000_03 31 16.00_kg_1']\n",
      "\n",
      "1917: 1 buildings\n",
      "Most used materials:\n",
      "['B01_A1010.10.0FW_03 31 16.00_kg_1', 'B01_A4090.60.000_32 11 23.00_kg_1', 'B01_A4010.10.000_03 31 16.00_kg_1']\n",
      "\n",
      "1969: 2 buildings\n",
      "Most used materials:\n",
      "['B01_A1010.10.0FW_03 31 16.00_kg_1', 'B01_A4090.60.000_32 11 23.00_kg_2', 'B01_A4010.10.000_03 31 16.00_kg_2']\n",
      "\n",
      "1988: 1 buildings\n",
      "Most used materials:\n",
      "['000_B1010.10.FGB_03 21 00.00_kg_3', '00F_A1010.30.0SF_03 21 00.00_kg_3', 'P01_A5010.20.000_03 21 00.00_kg_3']\n",
      "\n",
      "2007: 1 buildings\n",
      "Most used materials:\n",
      "['999_C1010.10.000_03 21 00.00_kg_3', '000_B1010.20.000_03 21 00.00_kg_3', '000_A1020.20.000_03 21 00.00_kg_3']\n",
      "\n",
      "2009: 1 buildings\n",
      "Most used materials:\n",
      "['000_B1010.20.000_03 21 00.00_kg_3', 'P02_A5010.20.000_03 21 00.00_kg_3', 'P01_A5010.20.000_03 21 00.00_kg_3']\n",
      "\n",
      "2011: 2 buildings\n",
      "Most used materials:\n",
      "['004_B1020.10.RGB_05 12 00.00_kg_1', '001_B1010.10.FGB_05 12 00.00_kg_1', '001_B1010.20.000_03 21 00.00_kg_3']\n",
      "\n",
      "2016: 1 buildings\n",
      "Most used materials:\n",
      "['00F_A1020.60.000_03 21 00.00_kg_3', '999_C1010.10.000_03 21 00.00_kg_3', '000_A4010.10.000_03 21 00.00_kg_3']\n",
      "\n",
      "2017: 1 buildings\n",
      "Most used materials:\n",
      "['999_B1010.10.CSF_05 12 00.00_kg_1', '007_B1010.10.FGB_05 12 00.00_kg_1', '002_B1010.10.FGB_05 12 00.00_kg_1']\n",
      "\n",
      "2018: 3 buildings\n",
      "Most used materials:\n",
      "['000_B1010.20.000_03 21 00.00_kg_3', '00F_A1020.15.000_31 62 00.00_kg_1', '0P1_A5010.20.000_03 21 00.00_kg_3']\n",
      "\n",
      "2020: 5 buildings\n",
      "Most used materials:\n",
      "['B01_A1010.10.0FW_03 31 16.00_kg_1', 'B01_A4010.10.000_03 31 16.00_kg_1', 'B01_A1010.10.0CF_03 31 16.00_kg_1']\n",
      "\n",
      "2021: 35 buildings\n",
      "Most used materials:\n",
      "['B01_A1010.10.0FW_03 31 16.00_kg_1', 'B01_A4010.10.000_03 31 16.00_kg_1', 'B01_A4090.60.000_32 11 23.00_kg_1']\n",
      "\n"
     ]
    }
   ],
   "source": [
    "for k,v in df.groupby('Construction Date'):\n",
    "    print(f'{k}: {len(v)} buildings')\n",
    "    print('Most used materials:')\n",
    "    print([t[0] for t in sorted(v[[t for t in v.columns if t not in headings]].sum().items(),key=lambda x:x[1], reverse=True)[0:3]])\n",
    "    print()"
   ]
  },
  {
   "cell_type": "code",
   "execution_count": null,
   "id": "divided-polyester",
   "metadata": {},
   "outputs": [],
   "source": []
  }
 ],
 "metadata": {
  "kernelspec": {
   "display_name": "Python 3",
   "language": "python",
   "name": "python3"
  },
  "language_info": {
   "codemirror_mode": {
    "name": "ipython",
    "version": 3
   },
   "file_extension": ".py",
   "mimetype": "text/x-python",
   "name": "python",
   "nbconvert_exporter": "python",
   "pygments_lexer": "ipython3",
   "version": "3.9.2"
  }
 },
 "nbformat": 4,
 "nbformat_minor": 5
}
