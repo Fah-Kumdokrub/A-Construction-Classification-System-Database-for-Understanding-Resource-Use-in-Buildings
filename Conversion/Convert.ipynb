{
 "cells": [
  {
   "cell_type": "code",
   "execution_count": 1,
   "id": "bridal-pollution",
   "metadata": {},
   "outputs": [],
   "source": [
    "import pandas as pd\n",
    "import numpy as np\n",
    "from tqdm import tqdm\n",
    "import re"
   ]
  },
  {
   "cell_type": "markdown",
   "id": "tracked-carter",
   "metadata": {},
   "source": [
    "# External Datasets\n",
    "\n",
    "Load in datasets for population, urbanization and gdp values for the US and Canada."
   ]
  },
  {
   "cell_type": "code",
   "execution_count": 2,
   "id": "elementary-picking",
   "metadata": {},
   "outputs": [],
   "source": [
    "population = pd.read_csv('population.csv')\n",
    "urbanization = pd.read_csv('urbanization.csv',index_col=0)\n",
    "gdp = pd.read_csv('gdp.csv')"
   ]
  },
  {
   "cell_type": "markdown",
   "id": "adaptive-wyoming",
   "metadata": {},
   "source": [
    "# Internal Datasets\n",
    "\n",
    "Load in the mapper dataset, and our data."
   ]
  },
  {
   "cell_type": "code",
   "execution_count": 3,
   "id": "transparent-excerpt",
   "metadata": {},
   "outputs": [],
   "source": [
    "mapper = pd.read_excel('Mapping material names_20210324.xlsx',header=2,usecols='B:U').replace(r'\\n','', regex=True) "
   ]
  },
  {
   "cell_type": "code",
   "execution_count": 4,
   "id": "sacred-melbourne",
   "metadata": {},
   "outputs": [],
   "source": [
    "df = pd.read_excel('../Dataset/dataset.xlsx',header=1,usecols='B:BKX')"
   ]
  },
  {
   "cell_type": "markdown",
   "id": "intimate-shame",
   "metadata": {},
   "source": [
    "# Additional Categories\n",
    "\n",
    "Specify the mapping from additional category codes to their categories, and also list the columns which are not materials."
   ]
  },
  {
   "cell_type": "code",
   "execution_count": 5,
   "id": "wound-profile",
   "metadata": {},
   "outputs": [],
   "source": [
    "additional_categories_map = {v:k for k,v in {\n",
    "    'Continuous Footings':'0CF',\n",
    "    'Foundation Walls':'0FW',\n",
    "    'Spread Footings':'0SF',\n",
    "    'Column Piers':'0CP',\n",
    "    'Columns Supporting Floors':'CSF',\n",
    "    'Floor Girders and Beams':'FGB',\n",
    "    'Floor Trusses':'0FT',\n",
    "    'Floor Joists':'0FJ',\n",
    "    'Columns Supporting Roofs':'CSR',\n",
    "    'Roof Girders and Beams':'RGB',\n",
    "    'Roof Trusses':'0RT',\n",
    "    'Roof Joists':'0RJ',\n",
    "    'Parking Bumpers':'0PB',\n",
    "    'Precast Concrete Stair Treads':'PCS',\n",
    "    'Roof Curbs':'0RC',\n",
    "    'Exterior Wall Construction':'EWC',\n",
    "    'Composite Decking':'CPD',\n",
    "    'Cast-in-Place concrete':'CIC',\n",
    "    'Floor Structural Frame':'FSF',\n",
    "    'Associated Metal Fabrications':'AMF',\n",
    "    'Floor Construction Supplementary Components':'FCS',\n",
    "    'Roof Construction Supplementary Components':'RCS',\n",
    "    'Residential Elevators':'0RE',\n",
    "    'Vegetated Low-Slope Roofing':'VLR',\n",
    "    'Swimming Pools':'SWP',\n",
    "    'Excavation Soil Anchors':'ESA',\n",
    "    'Floor Trusses':'FTS',\n",
    "    'Roof Window and Skylight Performance':'RWS'}.items()\n",
    "}\n",
    "\n",
    "additional_categories_map['0FT'] = 'Floor Trusses'\n",
    "\n",
    "headings = ['Building Identifier',\n",
    "            'Country',\n",
    " 'City',\n",
    " 'Quality / Stage of Data',\n",
    " 'Construction Date',\n",
    " 'Building Type',\n",
    " 'Contributor']"
   ]
  },
  {
   "cell_type": "markdown",
   "id": "opening-commissioner",
   "metadata": {},
   "source": [
    "# Get Heeren & Fishman (2019) Material Names\n",
    "\n",
    "Using the Mapping Names datasheet, find the relevant entry and identify the name."
   ]
  },
  {
   "cell_type": "code",
   "execution_count": 10,
   "id": "fitted-fitness",
   "metadata": {},
   "outputs": [],
   "source": [
    "def get_material_name(l):\n",
    "    split = re.split('[_\\.\\ ]',l) #Split up the code into its requisite parts\n",
    "    result = mapper[mapper['Unnamed: 7'] == split[1]+'.'+split[2]] #Filter by Level 4 Master Format\n",
    "    if len(result) == 0:\n",
    "        result = mapper #If that code does not exist in the table, reset\n",
    "    if len(result) == 1:\n",
    "        return result['Mapping Table'].values[0] #If it maps to exactly one value, return that. We do this check after every step\n",
    "    if split[3] != '000': #Check if there is an additional code, and if so filter by that\n",
    "        result = result[result['Level 5\\n'] == additional_categories_map[split[3]]]\n",
    "        if len(result) == 1:\n",
    "            return result['Mapping Table'].values[0]\n",
    "        \n",
    "    #Now filter by UniFormat.\n",
    "    #Filter only by the level of UniFormat present. If the code is XX 00 00, for example, then we only have Level 1.\n",
    "    if int(split[5]) == 0: \n",
    "        result = result[result['Unnamed: 12'] == f'{split[4]} 00 00']\n",
    "        if len(result) == 1:\n",
    "            return result['Mapping Table'].values[0]\n",
    "    elif int(split[6]) == 0:\n",
    "        result = result[(result['Unnamed: 14'] == f'{split[4]} {split[5]} 00') | (result['Unnamed: 16'] == f'{split[4]} {split[5]} 00')]\n",
    "        if len(result) == 1:\n",
    "            return result['Mapping Table'].values[0]\n",
    "    else:\n",
    "        result = result[result['Unnamed: 18'] == f'{split[4]} {split[5]} {split[6]}']\n",
    "        if len(result) == 1:\n",
    "            return result['Mapping Table'].values[0]\n",
    "        \n",
    "    #If we couldn't find it, or there is an unspecified edge case, return None. \n",
    "    if len(result) == 0:\n",
    "        return None\n",
    "    \n",
    "    #If there are multiple results but they all map to the same material, return that material.\n",
    "    if all(element == result['Mapping Table'].values[0] for element in result['Mapping Table'].values):\n",
    "        return result['Mapping Table'].values[0]\n",
    "    else:\n",
    "        return None"
   ]
  },
  {
   "cell_type": "markdown",
   "id": "immune-christmas",
   "metadata": {},
   "source": [
    "# Get external data from datasheets\n",
    "\n",
    "The following functions obtain data from the external datasheets, if available."
   ]
  },
  {
   "cell_type": "code",
   "execution_count": 11,
   "id": "allied-lounge",
   "metadata": {},
   "outputs": [],
   "source": [
    "def get_gdp(v):\n",
    "    if v['Country'] == 'CA':\n",
    "        idx = 33\n",
    "    else:\n",
    "        idx = 249\n",
    "    if v['Construction Date'] > 2019:\n",
    "        return gdp.at[idx,'2019']\n",
    "    if v['Construction Date'] < 1960:\n",
    "        return None\n",
    "    return gdp.at[idx,str(int(v['Construction Date']))]"
   ]
  },
  {
   "cell_type": "code",
   "execution_count": 12,
   "id": "dominant-implementation",
   "metadata": {},
   "outputs": [],
   "source": [
    "def get_urbanization(v):\n",
    "    try:\n",
    "        range_low = int(np.floor(v['Construction Date']/5)*5)\n",
    "        range_high = int(range_low+5)\n",
    "        return urbanization.at[v['Country'],f'{range_low}-{range_high}']\n",
    "    except:\n",
    "        return None"
   ]
  },
  {
   "cell_type": "code",
   "execution_count": 13,
   "id": "mineral-council",
   "metadata": {},
   "outputs": [],
   "source": [
    "def get_distance_equator(v):\n",
    "    if v['City'] == 'RIC':\n",
    "        return 5466\n",
    "    if v['City'] == 'TOR':\n",
    "        return 4859\n",
    "    if v['City'] == 'WIN':\n",
    "        return 4703\n",
    "    if v['City'] == 'NEW':\n",
    "        return 4527\n",
    "    return None"
   ]
  },
  {
   "cell_type": "code",
   "execution_count": 14,
   "id": "choice-scout",
   "metadata": {},
   "outputs": [],
   "source": [
    "def get_climate(v):\n",
    "    if v['City'] == 'RIC':\n",
    "        return 'Cfb'\n",
    "    if v['City'] == 'TOR':\n",
    "        return 'Dfb'\n",
    "    if v['City'] == 'WIN':\n",
    "        return 'Dfa'\n",
    "    if v['City'] == 'NEW':\n",
    "        return 'Cfa'\n",
    "    return None"
   ]
  },
  {
   "cell_type": "markdown",
   "id": "modern-integration",
   "metadata": {},
   "source": [
    "# Number of floors\n",
    "This helper function simply counts the number of floors in a given building."
   ]
  },
  {
   "cell_type": "code",
   "execution_count": 15,
   "id": "smoking-dominican",
   "metadata": {},
   "outputs": [],
   "source": [
    "def number_of_floors(v):\n",
    "    notna = set()\n",
    "    for ki,vi in v.items():\n",
    "        if vi == vi and '_' in ki:\n",
    "            notna.add(ki.split('_')[0])\n",
    "    return len(notna)"
   ]
  },
  {
   "cell_type": "markdown",
   "id": "arranged-replacement",
   "metadata": {},
   "source": [
    "# Main conversion loop\n",
    "For each row, map the values in our format to the values in the Heeren & Fishman (2019) format.\n",
    "\n",
    "If the conversion is 1:1, it is not explained below. Otherwise, a comment explains the motivation."
   ]
  },
  {
   "cell_type": "code",
   "execution_count": 16,
   "id": "opposed-tennessee",
   "metadata": {},
   "outputs": [
    {
     "name": "stderr",
     "output_type": "stream",
     "text": [
      "100%|██████████| 54/54 [00:03<00:00, 14.69it/s]\n"
     ]
    }
   ],
   "source": [
    "results = []\n",
    "for k,v in tqdm(df.iterrows(),total=len(df)):\n",
    "    output = {}\n",
    "    output['sid'] = v['Building Identifier']\n",
    "    output['Country'] = v['Country']\n",
    "    output['Region'] = v['City']\n",
    "    output['construction_period_start'] = v['Construction Date']\n",
    "    output['construction_period_end'] = v['Construction Date']\n",
    "    \n",
    "    #We initialize all material values as 0, and then fill them in the next step.\n",
    "    output['steel'] = 0\n",
    "    output['copper'] = 0\n",
    "    output['aluminum'] = 0\n",
    "    output['unspecified_metal'] = 0\n",
    "    output['wood'] = 0\n",
    "    output['paper_cardboard'] = 0\n",
    "    output['straw'] = 0\n",
    "    output['concrete'] = 0\n",
    "    output['cement'] = 0\n",
    "    output['aggregates'] = 0\n",
    "    output['brick'] = 0\n",
    "    output['mortar_plaster'] = 0\n",
    "    output['mineral_fill'] = 0\n",
    "    output['plaster_board_gypsum'] = 0\n",
    "    output['Adobe'] = 0\n",
    "    output['asphalt'] = 0\n",
    "    output['bitumen'] = 0\n",
    "    output['natural_stone'] = 0\n",
    "    output['cement_asbestos'] = 0\n",
    "    output['Clay'] = 0\n",
    "    output['glass'] = 0\n",
    "    output['siding (unspecified material)'] = 0\n",
    "    output['Ceramics'] = 0\n",
    "    output['plastics'] = 0\n",
    "    output['polystyrene'] = 0\n",
    "    output['PVC'] = 0\n",
    "    output['Linoleum'] = 0\n",
    "    output['Carpet'] = 0\n",
    "    output['Heraklith'] = 0\n",
    "    output['Mineral_wool'] = 0\n",
    "    output['insulation_unspecified'] = 0\n",
    "    output['other (unspecified material)'] = 0\n",
    "    \n",
    "    \n",
    "    #Using our helper function get_material_name(), we parse the column and find the relevant mapping in the mapper datasheet.\n",
    "    for l,w in v.items():\n",
    "        if l not in headings and w==w:\n",
    "            split = re.split('[_\\.\\ ]',l)\n",
    "            out = get_material_name(l)\n",
    "            if not out:\n",
    "                continue\n",
    "            else:\n",
    "                output[out] += w\n",
    "    \n",
    "    output['building_description'] = \"\"  #We do not have a building description in our database.\n",
    "    output['no_floors'] = number_of_floors(v)\n",
    "    output['occupation'] = None #We do not have building occupation in our database.\n",
    "    output['building_type'] = v['Building Type']\n",
    "    output['measurement_type'] = 'Case study'\n",
    "    output['urban_rural'] = 'Urban'\n",
    "    output['floor_area_type'] = None #We do not have floor area type in our database.\n",
    "    output['Authors'] = v['Contributor']\n",
    "    output['publication_year'] = 2021\n",
    "    output['publication_title'] = 'A Construction Classification System Database for Understanding Resource Use in Building Construction'\n",
    "    output['publication_outlet'] = None #This will be updated when our submission is accepted.\n",
    "    output['copyright_publication'] = None #This will be updated when our submission is accepted.\n",
    "    output['DOI'] = None #This will be updated when our submission is accepted.\n",
    "    output['URL'] = None #This will be updated when our submission is accepted.\n",
    "    output['comment_scope'] = None #Not available in our database.\n",
    "    output['comment_conversion'] = None #Not available in our database.\n",
    "    output['comment_aggregation'] = 'NA' #Not applicable in our database.\n",
    "    output['comment_primary'] = 'Material quantities were obtained through performing take offs directly from the building drawings.'\n",
    "    output['comment_secondary'] = None #Not available in our database.\n",
    "    output['data_entry'] = None #Not available in our database.\n",
    "    output['global_region'] = 'NA' #All of our cities are in North America.\n",
    "    output['climate_classification'] = get_climate(v)\n",
    "    output['equator_distance'] = get_distance_equator(v)\n",
    "    output['heating_degree_days_0'] = None #We were not able to obtain this data for a significant number of the years in our database.\n",
    "    output['heating_degree_days_1'] = None #We were not able to obtain this data for a significant number of the years in our database.\n",
    "    output['cooling_degree_days_0'] = None #We were not able to obtain this data for a significant number of the years in our database.\n",
    "    output['cooling_degree_days_1'] = None #We were not able to obtain this data for a significant number of the years in our database.\n",
    "    \n",
    "    #As our entries are either in the US or Canada, we provide the values for those two countries explicitly.\n",
    "    output['country_land_area'] = 9984670 if v['Country'] == 'CA' else 9833517\n",
    "    \n",
    "    #We obtain these values from our external datasets.\n",
    "    output['population_0'] = population[str(int(v['Construction Date']))].values[0] if str(int(v['Construction Date'])) in population.columns else None\n",
    "    output['population_1'] = output['population_0']\n",
    "    output['urbanization_0'] = get_urbanization(v)\n",
    "    output['urbanization_1'] = output['urbanization_0']\n",
    "    output['gdp_0'] = get_gdp(v)\n",
    "    output['gdp_1'] = output['gdp_0']\n",
    "    \n",
    "    #We were not able to obtain this data for a significant number of the years in our database.\n",
    "    output['hdi_0'] = None\n",
    "    output['hdi_1'] = None\n",
    "    results.append(output)\n",
    "    \n",
    "#Convert to a Pandas dataframe.\n",
    "results = pd.DataFrame(results)\n",
    "results.set_index('sid',inplace=True)"
   ]
  },
  {
   "cell_type": "code",
   "execution_count": 17,
   "id": "difficult-tracy",
   "metadata": {},
   "outputs": [],
   "source": [
    "results.to_csv('converted_dataset.csv')"
   ]
  },
  {
   "cell_type": "code",
   "execution_count": null,
   "id": "reverse-lecture",
   "metadata": {},
   "outputs": [],
   "source": []
  }
 ],
 "metadata": {
  "kernelspec": {
   "display_name": "Python 3",
   "language": "python",
   "name": "python3"
  },
  "language_info": {
   "codemirror_mode": {
    "name": "ipython",
    "version": 3
   },
   "file_extension": ".py",
   "mimetype": "text/x-python",
   "name": "python",
   "nbconvert_exporter": "python",
   "pygments_lexer": "ipython3",
   "version": "3.9.2"
  }
 },
 "nbformat": 4,
 "nbformat_minor": 5
}
