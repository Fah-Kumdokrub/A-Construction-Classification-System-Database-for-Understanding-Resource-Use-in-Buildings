{
 "cells": [
  {
   "cell_type": "code",
   "execution_count": 1,
   "id": "a1d4d24f",
   "metadata": {},
   "outputs": [],
   "source": [
    "import pandas as pd\n",
    "import numpy as np\n",
    "from tqdm import tqdm\n",
    "import re"
   ]
  },
  {
   "cell_type": "markdown",
   "id": "7825a3d9",
   "metadata": {},
   "source": [
    "# External Datasets\n",
    "\n",
    "Load in datasets for population, urbanization and gdp values for the US and Canada."
   ]
  },
  {
   "cell_type": "code",
   "execution_count": 2,
   "id": "2937626d",
   "metadata": {},
   "outputs": [],
   "source": [
    "population = pd.read_csv('population.csv')\n",
    "urbanization = pd.read_csv('urbanization.csv',index_col=0)\n",
    "gdp = pd.read_csv('gdp.csv')"
   ]
  },
  {
   "cell_type": "markdown",
   "id": "d1846502",
   "metadata": {},
   "source": [
    "# Internal Datasets\n",
    "\n",
    "Load in the mapper dataset, and our data."
   ]
  },
  {
   "cell_type": "code",
   "execution_count": 3,
   "id": "152042da",
   "metadata": {},
   "outputs": [],
   "source": [
    "mapper = pd.read_csv('Dataset_2.0_09222021_MF_UF.csv')\n",
    "building_name_mapper = pd.read_excel('BuildingTypeNames.xlsx')"
   ]
  },
  {
   "cell_type": "code",
   "execution_count": 4,
   "id": "b0477b97",
   "metadata": {},
   "outputs": [],
   "source": [
    "df = pd.read_excel('../Dataset/dataset.xlsx',header=3,index_col=1)"
   ]
  },
  {
   "cell_type": "code",
   "execution_count": 5,
   "id": "a14b9154-5e97-4c4d-83c4-ef4baadcc9f2",
   "metadata": {},
   "outputs": [],
   "source": [
    "df = df.drop('Unnamed: 0',axis=1).T.reset_index().rename({'Building Identifier':'index','index':'Building Identifier'},axis=1)"
   ]
  },
  {
   "cell_type": "code",
   "execution_count": 6,
   "id": "b14c7eb8-5d00-45b6-9c5c-ff1fd32a70a8",
   "metadata": {},
   "outputs": [],
   "source": [
    "df = df[~df['Building Identifier'].str.contains('\\.')]\n",
    "df = df[df['Building Identifier'].str.contains('0')]"
   ]
  },
  {
   "cell_type": "markdown",
   "id": "f064e492",
   "metadata": {},
   "source": [
    "# Additional Categories\n",
    "\n",
    "Specify the mapping from additional category codes to their categories, and also list the columns which are not materials."
   ]
  },
  {
   "cell_type": "code",
   "execution_count": 7,
   "id": "04cb7b9a",
   "metadata": {},
   "outputs": [],
   "source": [
    "additional_categories_map = {v:k for k,v in {\n",
    "    'Continuous Footings':'0CF',\n",
    "    'Foundation Walls':'0FW',\n",
    "    'Spread Footings':'0SF',\n",
    "    'Column Piers':'0CP',\n",
    "    'Columns Supporting Floors':'CSF',\n",
    "    'Floor Girders and Beams':'FGB',\n",
    "    'Floor Trusses':'0FT',\n",
    "    'Floor Joists':'0FJ',\n",
    "    'Columns Supporting Roofs':'CSR',\n",
    "    'Roof Girders and Beams':'RGB',\n",
    "    'Roof Trusses':'0RT',\n",
    "    'Roof Joists':'0RJ',\n",
    "    'Parking Bumpers':'0PB',\n",
    "    'Precast Concrete Stair Treads':'PCS',\n",
    "    'Roof Curbs':'0RC',\n",
    "    'Exterior Wall Construction':'EWC',\n",
    "    'Composite Decking':'CPD',\n",
    "    'Cast-in-Place concrete':'CIC',\n",
    "    'Floor Structural Frame':'FSF',\n",
    "    'Associated Metal Fabrications':'AMF',\n",
    "    'Floor Construction Supplementary Components':'FCS',\n",
    "    'Roof Construction Supplementary Components':'RCS',\n",
    "    'Residential Elevators':'0RE',\n",
    "    'Vegetated Low-Slope Roofing':'VLR',\n",
    "    'Swimming Pools':'SWP',\n",
    "    'Excavation Soil Anchors':'ESA',\n",
    "    'Floor Trusses':'FTS',\n",
    "    'Roof Window and Skylight Performance':'RWS',\n",
    "    'Rainwater Storage Tanks':'RST',\n",
    "    'Gray Water Tanks':'GWT'}.items()\n",
    "}\n",
    "\n",
    "additional_categories_map['0FT'] = 'Floor Trusses'\n",
    "\n",
    "headings = ['Building Identifier',\n",
    "            'Country',\n",
    "            'Gross Floor Area',\n",
    " 'City',\n",
    " 'Quality / Stage of Data',\n",
    " 'Construction Date',\n",
    " 'Building Type',\n",
    " 'Contributor']"
   ]
  },
  {
   "cell_type": "markdown",
   "id": "d472f873",
   "metadata": {},
   "source": [
    "# Get Heeren & Fishman (2019) Material Names\n",
    "\n",
    "Using the Mapping Names datasheet, find the relevant entry and identify the name."
   ]
  },
  {
   "cell_type": "code",
   "execution_count": 8,
   "id": "780b289f",
   "metadata": {},
   "outputs": [],
   "source": [
    "def get_material_name(l):\n",
    "    code = l.split('_')[2]\n",
    "    if code.count('.') == 2:\n",
    "        code = '.'.join(code.split('.')[1:])\n",
    "    else:\n",
    "        code = code.split('.')[0]\n",
    "    return mapper[mapper.Code.str.contains(code.strip())].Category.values[0]"
   ]
  },
  {
   "cell_type": "markdown",
   "id": "48a429e9",
   "metadata": {},
   "source": [
    "# Get external data from datasheets\n",
    "\n",
    "The following functions obtain data from the external datasheets, if available."
   ]
  },
  {
   "cell_type": "code",
   "execution_count": 9,
   "id": "dcec055c",
   "metadata": {},
   "outputs": [],
   "source": [
    "def get_gdp(v):\n",
    "    if v['Country'] == 'CA':\n",
    "        idx = 33\n",
    "    else:\n",
    "        idx = 249\n",
    "    if v['Construction Date'] > 2019:\n",
    "        return gdp.at[idx,'2019']\n",
    "    if v['Construction Date'] < 1960:\n",
    "        return None\n",
    "    return gdp.at[idx,str(int(v['Construction Date']))]"
   ]
  },
  {
   "cell_type": "code",
   "execution_count": 10,
   "id": "5c85c21e",
   "metadata": {},
   "outputs": [],
   "source": [
    "def get_urbanization(v):\n",
    "    try:\n",
    "        range_low = int(np.floor(v['Construction Date']/5)*5)\n",
    "        range_high = int(range_low+5)\n",
    "        return urbanization.at[v['Country'],f'{range_low}-{range_high}']\n",
    "    except:\n",
    "        return None"
   ]
  },
  {
   "cell_type": "code",
   "execution_count": 11,
   "id": "cef5d666",
   "metadata": {},
   "outputs": [],
   "source": [
    "def get_distance_equator(v):\n",
    "    if v['City'] == 'RIC':\n",
    "        return 5466\n",
    "    if v['City'] == 'TOR':\n",
    "        return 4859\n",
    "    if v['City'] == 'WIN':\n",
    "        return 4703\n",
    "    if v['City'] == 'NEW':\n",
    "        return 4527\n",
    "    return None"
   ]
  },
  {
   "cell_type": "code",
   "execution_count": 12,
   "id": "82fe0025",
   "metadata": {},
   "outputs": [],
   "source": [
    "def get_climate(v):\n",
    "    if v['City'] == 'RIC':\n",
    "        return 'Cfb'\n",
    "    if v['City'] == 'TOR':\n",
    "        return 'Dfb'\n",
    "    if v['City'] == 'WIN':\n",
    "        return 'Dfa'\n",
    "    if v['City'] == 'NEW':\n",
    "        return 'Cfa'\n",
    "    return None"
   ]
  },
  {
   "cell_type": "markdown",
   "id": "9903c7ca",
   "metadata": {},
   "source": [
    "# Number of floors\n",
    "This helper function simply counts the number of floors in a given building."
   ]
  },
  {
   "cell_type": "code",
   "execution_count": 13,
   "id": "21001e3f",
   "metadata": {},
   "outputs": [],
   "source": [
    "def number_of_floors(v):\n",
    "    notna = set()\n",
    "    for ki,vi in v.items():\n",
    "        if vi == vi and '_' in ki:\n",
    "            notna.add(ki.split('_')[0])\n",
    "    return len(notna)"
   ]
  },
  {
   "cell_type": "markdown",
   "id": "b80c6eb3",
   "metadata": {},
   "source": [
    "# Main conversion loop\n",
    "For each row, map the values in our format to the values in the Heeren & Fishman (2019) format.\n",
    "\n",
    "If the conversion is 1:1, it is not explained below. Otherwise, a comment explains the motivation."
   ]
  },
  {
   "cell_type": "code",
   "execution_count": 14,
   "id": "ec615909",
   "metadata": {},
   "outputs": [
    {
     "name": "stderr",
     "output_type": "stream",
     "text": [
      "100%|███████████████████████████████████████████| 72/72 [00:12<00:00,  5.90it/s]\n"
     ]
    }
   ],
   "source": [
    "results = []\n",
    "for k,v in tqdm(df.iterrows(),total=len(df)):\n",
    "    output = {}\n",
    "    output['sid'] = v['Building Identifier']\n",
    "    output['Country'] = v['Country']\n",
    "    output['Region'] = v['City']\n",
    "    output['construction_period_start'] = v['Construction Date']\n",
    "    output['construction_period_end'] = v['Construction Date']\n",
    "        \n",
    "    #Using our helper function get_material_name(), we parse the column and find the relevant mapping in the mapper datasheet.\n",
    "    for l,w in v.items():\n",
    "        if l not in headings and w==w:\n",
    "            split = re.split('[_\\.\\ ]',l)\n",
    "            out = get_material_name(l)\n",
    "            if not out:\n",
    "                continue\n",
    "            else:\n",
    "                if out.strip() in output.keys():\n",
    "                    output[out.strip()] += w\n",
    "                else:\n",
    "                    output[out.strip()] = w\n",
    "    \n",
    "    output['building_description'] = building_name_mapper[(building_name_mapper == v['Building Type']).values]['Building Type'].values[0]\n",
    "    output['no_floors'] = number_of_floors(v)\n",
    "    output['occupation'] = building_name_mapper[(building_name_mapper == v['Building Type']).values]['Occupation'].values[0]\n",
    "    output['building_type'] = v['Building Type']\n",
    "    output['measurement_type'] = 'Case study'\n",
    "    output['urban_rural'] = 'Urban'\n",
    "    output['floor_area_type'] = v['Gross Floor Area']\n",
    "    output['Authors'] = 'Shoshanna Saxe Research Group'\n",
    "    output['publication_year'] = 2021\n",
    "    output['publication_title'] = 'A Construction Classification System Database for Understanding Resource Use in Building Construction'\n",
    "    output['publication_outlet'] = None #This will be updated when our submission is accepted.\n",
    "    output['copyright_publication'] = None #This will be updated when our submission is accepted.\n",
    "    output['DOI'] = None #This will be updated when our submission is accepted.\n",
    "    output['URL'] = None #This will be updated when our submission is accepted.\n",
    "    output['comment_scope'] = None #Not available in our database.\n",
    "    output['comment_conversion'] = None #Not available in our database.\n",
    "    output['comment_aggregation'] = 'NA' #Not applicable in our database.\n",
    "    output['comment_primary'] = 'Material quantities were obtained through performing take offs directly from the building drawings.'\n",
    "    output['comment_secondary'] = None #Not available in our database.\n",
    "    output['data_entry'] = None #Not available in our database.\n",
    "    output['global_region'] = 'Northern America' #All of our cities are in North America.\n",
    "    output['climate_classification'] = get_climate(v)\n",
    "    output['equator_distance'] = get_distance_equator(v)\n",
    "    output['heating_degree_days_0'] = None #We were not able to obtain this data for a significant number of the years in our database.\n",
    "    output['heating_degree_days_1'] = None #We were not able to obtain this data for a significant number of the years in our database.\n",
    "    output['cooling_degree_days_0'] = None #We were not able to obtain this data for a significant number of the years in our database.\n",
    "    output['cooling_degree_days_1'] = None #We were not able to obtain this data for a significant number of the years in our database.\n",
    "    \n",
    "    #As our entries are either in the US or Canada, we provide the values for those two countries explicitly.\n",
    "    output['country_land_area'] = 9984670 if v['Country'] == 'CA' else 9833517\n",
    "    \n",
    "    #We obtain these values from our external datasets.\n",
    "    output['population_0'] = population[str(int(v['Construction Date']))].values[0] if str(int(v['Construction Date'])) in population.columns else None\n",
    "    output['population_1'] = output['population_0']\n",
    "    output['urbanization_0'] = get_urbanization(v)\n",
    "    output['urbanization_1'] = output['urbanization_0']\n",
    "    output['gdp_0'] = get_gdp(v)\n",
    "    output['gdp_1'] = output['gdp_0']\n",
    "    \n",
    "    #We were not able to obtain this data for a significant number of the years in our database.\n",
    "    output['hdi_0'] = None\n",
    "    output['hdi_1'] = None\n",
    "    results.append(output)\n",
    "    \n",
    "#Convert to a Pandas dataframe.\n",
    "results = pd.DataFrame(results)\n",
    "results.set_index('sid',inplace=True)"
   ]
  },
  {
   "cell_type": "code",
   "execution_count": 15,
   "id": "7de3f706-0544-499c-adab-fbaaf38edd55",
   "metadata": {},
   "outputs": [],
   "source": [
    "df.to_csv('converted_dataset.csv')"
   ]
  }
 ],
 "metadata": {
  "kernelspec": {
   "display_name": "Python 3 (ipykernel)",
   "language": "python",
   "name": "python3"
  },
  "language_info": {
   "codemirror_mode": {
    "name": "ipython",
    "version": 3
   },
   "file_extension": ".py",
   "mimetype": "text/x-python",
   "name": "python",
   "nbconvert_exporter": "python",
   "pygments_lexer": "ipython3",
   "version": "3.9.7"
  }
 },
 "nbformat": 4,
 "nbformat_minor": 5
}
