{
 "cells": [
  {
   "cell_type": "code",
   "execution_count": 128,
   "id": "velvet-plumbing",
   "metadata": {},
   "outputs": [],
   "source": [
    "import pandas as pd\n",
    "import re\n",
    "from tqdm import tqdm"
   ]
  },
  {
   "cell_type": "code",
   "execution_count": 8,
   "id": "tropical-interim",
   "metadata": {},
   "outputs": [],
   "source": [
    "df = pd.read_excel('Dataset/dataset.xlsx',header=1,usecols='B:BKX',index_col=0)"
   ]
  },
  {
   "cell_type": "code",
   "execution_count": 179,
   "id": "solar-product",
   "metadata": {},
   "outputs": [],
   "source": [
    "mapper = pd.read_excel('/Users/alex/Downloads/Mapping material names_20210324.xlsx',header=2,usecols='B:U').replace(r'\\n','', regex=True) "
   ]
  },
  {
   "cell_type": "code",
   "execution_count": 29,
   "id": "fallen-chamber",
   "metadata": {},
   "outputs": [],
   "source": [
    "for k,v in df.iterrows():\n",
    "    break"
   ]
  },
  {
   "cell_type": "code",
   "execution_count": 81,
   "id": "insured-shannon",
   "metadata": {},
   "outputs": [],
   "source": [
    "additional_categories_map = {v:k for k,v in {\n",
    "    'Continuous Footings':'0CF',\n",
    "    'Foundation Walls':'0FW',\n",
    "    'Spread Footings':'0SF',\n",
    "    'Column Piers':'0CP',\n",
    "    'Columns Supporting Floors':'CSF',\n",
    "    'Floor Girders and Beams':'FGB',\n",
    "    'Floor Trusses':'0FT',\n",
    "    'Floor Joists':'0FJ',\n",
    "    'Columns Supporting Roofs':'CSR',\n",
    "    'Roof Girders and Beams':'RGB',\n",
    "    'Roof Trusses':'0RT',\n",
    "    'Roof Joists':'0RJ',\n",
    "    'Parking Bumpers':'0PB',\n",
    "    'Precast Concrete Stair Treads':'PCS',\n",
    "    'Roof Curbs':'0RC',\n",
    "    'Exterior Wall Construction':'EWC',\n",
    "    'Composite Decking':'CPD',\n",
    "    'Cast-in-Place concrete':'CIC',\n",
    "    'Floor Structural Frame':'FSF',\n",
    "    'Associated Metal Fabrications':'AMF',\n",
    "    'Floor Construction Supplementary Components':'FCS',\n",
    "    'Roof Construction Supplementary Components':'RCS',\n",
    "    'Residential Elevators':'0RE',\n",
    "    'Vegetated Low-Slope Roofing':'VLR',\n",
    "    'Swimming Pools':'SWP',\n",
    "    'Excavation Soil Anchors':'ESA',\n",
    "    'Floor Trusses':'FTS',\n",
    "    'Roof Window and Skylight Performance':'RWS'}.items()\n",
    "}"
   ]
  },
  {
   "cell_type": "code",
   "execution_count": 191,
   "id": "surrounded-burning",
   "metadata": {},
   "outputs": [
    {
     "name": "stderr",
     "output_type": "stream",
     "text": [
      "100%|██████████| 1660/1660 [00:00<00:00, 18351.66it/s]"
     ]
    },
    {
     "name": "stdout",
     "output_type": "stream",
     "text": [
      "B01 insulation_unspecified kg 1\n",
      "B01 concrete kg 2\n",
      "B01 concrete kg 1\n",
      "B01 plastics kg 1\n",
      "B01 concrete kg 1\n",
      "001 concrete kg 2\n",
      "B01 plaster_board_gypsum kg 2\n",
      "002_B3010.90.000_07 21 00.00_kg_4\n",
      "002 plastics kg 1\n",
      "999 wood kg 2\n",
      "001_B2080.50.000_06 15 19.00_kg_4\n",
      "001 insulation_unspecified kg 4\n",
      "002 insulation_unspecified kg 4\n",
      "999 mortar_plaster kg 4\n",
      "999 brick kg 4\n",
      "999 glass kg 2\n",
      "001 wood kg 2\n",
      "00R wood kg 1\n",
      "00R wood kg 2\n",
      "999 wood kg 2\n",
      "001 plaster_board_gypsum kg 2\n",
      "002 plaster_board_gypsum kg 2\n",
      "B01 plaster_board_gypsum kg 2\n",
      "B01 aggregates kg 2\n",
      "B01 insulation_unspecified kg 4\n",
      "001 plaster_board_gypsum kg 4\n",
      "002 plaster_board_gypsum kg 4\n",
      "001 wood kg 1\n",
      "002 wood kg 1\n",
      "001 wood kg 4\n",
      "001 wood kg 4\n",
      "002 wood kg 4\n",
      "00R wood kg 2\n",
      "001 plaster_board_gypsum kg 2\n",
      "002 plaster_board_gypsum kg 2\n",
      "B01 plaster_board_gypsum kg 2\n",
      "001_B1080.10.000_03 31 16.00_kg_1\n",
      "001 concrete kg 1\n",
      "001_A1010.30.0CP_06 15 19.00_kg_1\n",
      "001 concrete kg 1\n",
      "B01 wood kg 1\n",
      "00R asphalt kg 1\n",
      "001 wood kg 1\n",
      "002 wood kg 1\n",
      "001 wood kg 1\n",
      "002 wood kg 1\n",
      "B01 wood kg 1\n",
      "B01 wood kg 1\n",
      "001 wood kg 2\n",
      "B01 concrete kg 1\n",
      "B01 steel kg 1\n",
      "001 steel kg 1\n",
      "001_B1080.10.000_03 21 13.00_kg_1\n",
      "001_C1010.90.000_07 26 23.00_kg_2\n",
      "001 wood kg 2\n",
      "002 wood kg 2\n",
      "001 plastics kg 2\n",
      "002 plastics kg 2\n",
      "001 aggregates kg 2\n",
      "001 insulation_unspecified kg 2\n",
      "001 wood kg 2\n",
      "001_B2010.20.000_05 12 00.00_kg_1\n",
      "002_B2010.20.000_05 12 00.00_kg_1\n",
      "001 steel kg 1\n",
      "002 wood kg 4\n",
      "001 insulation_unspecified kg 2\n",
      "B01 insulation_unspecified kg 4\n",
      "001 wood kg 2\n",
      "001 steel kg 2\n",
      "B01 steel kg 2\n",
      "00R_B3010.50.000_07 41 13.00_kg_1\n",
      "00R steel kg 4\n",
      "B01_B2010.20.000_05 12 00.00_kg_1\n",
      "001 plastics kg 4\n",
      "00R wood kg 2\n"
     ]
    },
    {
     "name": "stderr",
     "output_type": "stream",
     "text": [
      "\n"
     ]
    }
   ],
   "source": [
    "headings = ['Country',\n",
    " 'City',\n",
    " 'Quality / Stage of Data',\n",
    " 'Construction Date',\n",
    " 'Building Type',\n",
    " 'Contributor']\n",
    "for l,w in tqdm(v.items(),total=len(v)):\n",
    "    if l not in headings and w==w:\n",
    "        split = re.split('[_\\.\\ ]',l)\n",
    "        out = get_material_name(l)\n",
    "        if not out:\n",
    "            print(l)\n",
    "        else:\n",
    "            print(split[0], out, split[8], split[9])"
   ]
  },
  {
   "cell_type": "code",
   "execution_count": 187,
   "id": "fixed-possibility",
   "metadata": {},
   "outputs": [],
   "source": [
    "def get_material_name(l):\n",
    "    split = re.split('[_\\.\\ ]',l)\n",
    "    result = mapper[mapper['Unnamed: 7'] == split[1]+'.'+split[2]]\n",
    "    if len(result) == 0:\n",
    "        result = mapper\n",
    "    if len(result) == 1:\n",
    "        return result['Mapping Table'].values[0]\n",
    "    if split[3] != '000':\n",
    "        result = result[result['Level 5\\n'] == additional_categories_map[split[3]]]\n",
    "        if len(result) == 1:\n",
    "            return result['Mapping Table'].values[0]\n",
    "    if int(split[5]) == 0:\n",
    "        result = result[result['Unnamed: 12'] == f'{split[4]} 00 00']\n",
    "        if len(result) == 1:\n",
    "            return result['Mapping Table'].values[0]\n",
    "    elif int(split[6]) == 0:\n",
    "        result = result[(result['Unnamed: 14'] == f'{split[4]} {split[5]} 00') | (result['Unnamed: 16'] == f'{split[4]} {split[5]} 00')]\n",
    "        if len(result) == 1:\n",
    "            return result['Mapping Table'].values[0]\n",
    "    else:\n",
    "        result = result[result['Unnamed: 18'] == f'{split[4]} {split[5]} {split[6]}']\n",
    "        if len(result) == 1:\n",
    "            return result['Mapping Table'].values[0]\n",
    "    if len(result) == 0:\n",
    "        return None\n",
    "    if all(element == result['Mapping Table'].values[0] for element in result['Mapping Table'].values):\n",
    "        return result['Mapping Table'].values[0]\n",
    "    else:\n",
    "        return None"
   ]
  },
  {
   "cell_type": "code",
   "execution_count": null,
   "id": "express-tuner",
   "metadata": {},
   "outputs": [],
   "source": []
  }
 ],
 "metadata": {
  "kernelspec": {
   "display_name": "Python 3",
   "language": "python",
   "name": "python3"
  },
  "language_info": {
   "codemirror_mode": {
    "name": "ipython",
    "version": 3
   },
   "file_extension": ".py",
   "mimetype": "text/x-python",
   "name": "python",
   "nbconvert_exporter": "python",
   "pygments_lexer": "ipython3",
   "version": "3.9.2"
  }
 },
 "nbformat": 4,
 "nbformat_minor": 5
}
